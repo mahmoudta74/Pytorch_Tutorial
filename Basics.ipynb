{
  "nbformat": 4,
  "nbformat_minor": 0,
  "metadata": {
    "colab": {
      "name": "Basics.ipynb",
      "provenance": [],
      "collapsed_sections": [],
      "toc_visible": true,
      "authorship_tag": "ABX9TyNXIk6g/7OO5cCSDGfPjbm4",
      "include_colab_link": true
    },
    "kernelspec": {
      "name": "python3",
      "display_name": "Python 3"
    },
    "accelerator": "GPU",
    "widgets": {
      "application/vnd.jupyter.widget-state+json": {
        "1b292bbc03304a1da1927db9989a6d37": {
          "model_module": "@jupyter-widgets/controls",
          "model_name": "HBoxModel",
          "state": {
            "_view_name": "HBoxView",
            "_dom_classes": [],
            "_model_name": "HBoxModel",
            "_view_module": "@jupyter-widgets/controls",
            "_model_module_version": "1.5.0",
            "_view_count": null,
            "_view_module_version": "1.5.0",
            "box_style": "",
            "layout": "IPY_MODEL_183f95f9b3c04a76b80d0cff8e5c5a9d",
            "_model_module": "@jupyter-widgets/controls",
            "children": [
              "IPY_MODEL_b6679d16ad3c45ef96386f4ac017c0d5",
              "IPY_MODEL_5ef682df85b24d15a05f25351300387a"
            ]
          }
        },
        "183f95f9b3c04a76b80d0cff8e5c5a9d": {
          "model_module": "@jupyter-widgets/base",
          "model_name": "LayoutModel",
          "state": {
            "_view_name": "LayoutView",
            "grid_template_rows": null,
            "right": null,
            "justify_content": null,
            "_view_module": "@jupyter-widgets/base",
            "overflow": null,
            "_model_module_version": "1.2.0",
            "_view_count": null,
            "flex_flow": null,
            "width": null,
            "min_width": null,
            "border": null,
            "align_items": null,
            "bottom": null,
            "_model_module": "@jupyter-widgets/base",
            "top": null,
            "grid_column": null,
            "overflow_y": null,
            "overflow_x": null,
            "grid_auto_flow": null,
            "grid_area": null,
            "grid_template_columns": null,
            "flex": null,
            "_model_name": "LayoutModel",
            "justify_items": null,
            "grid_row": null,
            "max_height": null,
            "align_content": null,
            "visibility": null,
            "align_self": null,
            "height": null,
            "min_height": null,
            "padding": null,
            "grid_auto_rows": null,
            "grid_gap": null,
            "max_width": null,
            "order": null,
            "_view_module_version": "1.2.0",
            "grid_template_areas": null,
            "object_position": null,
            "object_fit": null,
            "grid_auto_columns": null,
            "margin": null,
            "display": null,
            "left": null
          }
        },
        "b6679d16ad3c45ef96386f4ac017c0d5": {
          "model_module": "@jupyter-widgets/controls",
          "model_name": "FloatProgressModel",
          "state": {
            "_view_name": "ProgressView",
            "style": "IPY_MODEL_26eff396c29e4222a7a2e797404793de",
            "_dom_classes": [],
            "description": "100%",
            "_model_name": "FloatProgressModel",
            "bar_style": "success",
            "max": 46827520,
            "_view_module": "@jupyter-widgets/controls",
            "_model_module_version": "1.5.0",
            "value": 46827520,
            "_view_count": null,
            "_view_module_version": "1.5.0",
            "orientation": "horizontal",
            "min": 0,
            "description_tooltip": null,
            "_model_module": "@jupyter-widgets/controls",
            "layout": "IPY_MODEL_4992e6b46bc54837ab732aeaf1601bf1"
          }
        },
        "5ef682df85b24d15a05f25351300387a": {
          "model_module": "@jupyter-widgets/controls",
          "model_name": "HTMLModel",
          "state": {
            "_view_name": "HTMLView",
            "style": "IPY_MODEL_26d0ad60a917423f880c47e9407d6684",
            "_dom_classes": [],
            "description": "",
            "_model_name": "HTMLModel",
            "placeholder": "​",
            "_view_module": "@jupyter-widgets/controls",
            "_model_module_version": "1.5.0",
            "value": " 44.7M/44.7M [00:03&lt;00:00, 13.0MB/s]",
            "_view_count": null,
            "_view_module_version": "1.5.0",
            "description_tooltip": null,
            "_model_module": "@jupyter-widgets/controls",
            "layout": "IPY_MODEL_085ee496d9ea4b22acde295a4255578d"
          }
        },
        "26eff396c29e4222a7a2e797404793de": {
          "model_module": "@jupyter-widgets/controls",
          "model_name": "ProgressStyleModel",
          "state": {
            "_view_name": "StyleView",
            "_model_name": "ProgressStyleModel",
            "description_width": "initial",
            "_view_module": "@jupyter-widgets/base",
            "_model_module_version": "1.5.0",
            "_view_count": null,
            "_view_module_version": "1.2.0",
            "bar_color": null,
            "_model_module": "@jupyter-widgets/controls"
          }
        },
        "4992e6b46bc54837ab732aeaf1601bf1": {
          "model_module": "@jupyter-widgets/base",
          "model_name": "LayoutModel",
          "state": {
            "_view_name": "LayoutView",
            "grid_template_rows": null,
            "right": null,
            "justify_content": null,
            "_view_module": "@jupyter-widgets/base",
            "overflow": null,
            "_model_module_version": "1.2.0",
            "_view_count": null,
            "flex_flow": null,
            "width": null,
            "min_width": null,
            "border": null,
            "align_items": null,
            "bottom": null,
            "_model_module": "@jupyter-widgets/base",
            "top": null,
            "grid_column": null,
            "overflow_y": null,
            "overflow_x": null,
            "grid_auto_flow": null,
            "grid_area": null,
            "grid_template_columns": null,
            "flex": null,
            "_model_name": "LayoutModel",
            "justify_items": null,
            "grid_row": null,
            "max_height": null,
            "align_content": null,
            "visibility": null,
            "align_self": null,
            "height": null,
            "min_height": null,
            "padding": null,
            "grid_auto_rows": null,
            "grid_gap": null,
            "max_width": null,
            "order": null,
            "_view_module_version": "1.2.0",
            "grid_template_areas": null,
            "object_position": null,
            "object_fit": null,
            "grid_auto_columns": null,
            "margin": null,
            "display": null,
            "left": null
          }
        },
        "26d0ad60a917423f880c47e9407d6684": {
          "model_module": "@jupyter-widgets/controls",
          "model_name": "DescriptionStyleModel",
          "state": {
            "_view_name": "StyleView",
            "_model_name": "DescriptionStyleModel",
            "description_width": "",
            "_view_module": "@jupyter-widgets/base",
            "_model_module_version": "1.5.0",
            "_view_count": null,
            "_view_module_version": "1.2.0",
            "_model_module": "@jupyter-widgets/controls"
          }
        },
        "085ee496d9ea4b22acde295a4255578d": {
          "model_module": "@jupyter-widgets/base",
          "model_name": "LayoutModel",
          "state": {
            "_view_name": "LayoutView",
            "grid_template_rows": null,
            "right": null,
            "justify_content": null,
            "_view_module": "@jupyter-widgets/base",
            "overflow": null,
            "_model_module_version": "1.2.0",
            "_view_count": null,
            "flex_flow": null,
            "width": null,
            "min_width": null,
            "border": null,
            "align_items": null,
            "bottom": null,
            "_model_module": "@jupyter-widgets/base",
            "top": null,
            "grid_column": null,
            "overflow_y": null,
            "overflow_x": null,
            "grid_auto_flow": null,
            "grid_area": null,
            "grid_template_columns": null,
            "flex": null,
            "_model_name": "LayoutModel",
            "justify_items": null,
            "grid_row": null,
            "max_height": null,
            "align_content": null,
            "visibility": null,
            "align_self": null,
            "height": null,
            "min_height": null,
            "padding": null,
            "grid_auto_rows": null,
            "grid_gap": null,
            "max_width": null,
            "order": null,
            "_view_module_version": "1.2.0",
            "grid_template_areas": null,
            "object_position": null,
            "object_fit": null,
            "grid_auto_columns": null,
            "margin": null,
            "display": null,
            "left": null
          }
        }
      }
    }
  },
  "cells": [
    {
      "cell_type": "markdown",
      "metadata": {
        "id": "view-in-github",
        "colab_type": "text"
      },
      "source": [
        "<a href=\"https://colab.research.google.com/github/mahmoudta74/Pytorch_Tutorial/blob/master/Basics.ipynb\" target=\"_parent\"><img src=\"https://colab.research.google.com/assets/colab-badge.svg\" alt=\"Open In Colab\"/></a>"
      ]
    },
    {
      "cell_type": "markdown",
      "metadata": {
        "id": "Jf4BybyWLv7v"
      },
      "source": [
        "# importing torch"
      ]
    },
    {
      "cell_type": "code",
      "metadata": {
        "id": "DOupibSiL0E3"
      },
      "source": [
        "#import essential packages \n",
        "import torch\n",
        "import torchvision\n",
        "import numpy as np\n",
        "import matplotlib.pyplot as plt\n",
        "import torch.nn as nn\n",
        "import torchvision.transforms as transforms"
      ],
      "execution_count": 13,
      "outputs": []
    },
    {
      "cell_type": "code",
      "metadata": {
        "id": "8eqAB0oE4hAW",
        "colab": {
          "base_uri": "https://localhost:8080/"
        },
        "outputId": "e1972722-f66e-47a5-bd04-a450e6697712"
      },
      "source": [
        "print(torch.__version__)\r\n",
        "torch.cuda.is_available()"
      ],
      "execution_count": null,
      "outputs": [
        {
          "output_type": "stream",
          "text": [
            "1.7.0+cu101\n"
          ],
          "name": "stdout"
        },
        {
          "output_type": "execute_result",
          "data": {
            "text/plain": [
              "True"
            ]
          },
          "metadata": {
            "tags": []
          },
          "execution_count": 5
        }
      ]
    },
    {
      "cell_type": "code",
      "metadata": {
        "id": "DX7t-JgM5Ef-",
        "colab": {
          "base_uri": "https://localhost:8080/"
        },
        "outputId": "0160d697-b786-4b53-954e-ddbaaa3b7e86"
      },
      "source": [
        "!nvidia-smi"
      ],
      "execution_count": null,
      "outputs": [
        {
          "output_type": "stream",
          "text": [
            "Wed Jan 27 17:33:03 2021       \n",
            "+-----------------------------------------------------------------------------+\n",
            "| NVIDIA-SMI 418.67       Driver Version: 418.67       CUDA Version: 10.1     |\n",
            "|-------------------------------+----------------------+----------------------+\n",
            "| GPU  Name        Persistence-M| Bus-Id        Disp.A | Volatile Uncorr. ECC |\n",
            "| Fan  Temp  Perf  Pwr:Usage/Cap|         Memory-Usage | GPU-Util  Compute M. |\n",
            "|===============================+======================+======================|\n",
            "|   0  Tesla T4            Off  | 00000000:00:04.0 Off |                    0 |\n",
            "| N/A   37C    P8     9W /  70W |     10MiB / 15079MiB |      0%      Default |\n",
            "+-------------------------------+----------------------+----------------------+\n",
            "                                                                               \n",
            "+-----------------------------------------------------------------------------+\n",
            "| Processes:                                                       GPU Memory |\n",
            "|  GPU       PID   Type   Process name                             Usage      |\n",
            "|=============================================================================|\n",
            "|  No running processes found                                                 |\n",
            "+-----------------------------------------------------------------------------+\n"
          ],
          "name": "stdout"
        }
      ]
    },
    {
      "cell_type": "code",
      "metadata": {
        "id": "jw1Q0TYG5RFQ",
        "colab": {
          "base_uri": "https://localhost:8080/"
        },
        "outputId": "e15dc177-3d38-43f4-cae2-be9039e2b50a"
      },
      "source": [
        "!pip install gputil;\r\n",
        "!pip install psutil;\r\n",
        "!pip install humanize;\r\n",
        "\r\n",
        "# Import packages\r\n",
        "import os,sys,humanize,psutil,GPUtil\r\n",
        "\r\n",
        "# Define function\r\n",
        "def mem_report():\r\n",
        "  print(\"CPU RAM Free: \" + humanize.naturalsize( psutil.virtual_memory().available ))\r\n",
        "  \r\n",
        "  GPUs = GPUtil.getGPUs()\r\n",
        "  for i, gpu in enumerate(GPUs):\r\n",
        "    print('GPU {:d} ... Mem Free: {:.0f}MB / {:.0f}MB | Utilization {:3.0f}%'.format(i, gpu.memoryFree, gpu.memoryTotal, gpu.memoryUtil*100))\r\n",
        "    \r\n",
        "# Execute function\r\n",
        "mem_report()"
      ],
      "execution_count": null,
      "outputs": [
        {
          "output_type": "stream",
          "text": [
            "Requirement already satisfied: gputil in /usr/local/lib/python3.6/dist-packages (1.4.0)\n",
            "Requirement already satisfied: psutil in /usr/local/lib/python3.6/dist-packages (5.4.8)\n",
            "Requirement already satisfied: humanize in /usr/local/lib/python3.6/dist-packages (0.5.1)\n",
            "CPU RAM Free: 12.7 GB\n",
            "GPU 0 ... Mem Free: 15069MB / 15079MB | Utilization   0%\n"
          ],
          "name": "stdout"
        }
      ]
    },
    {
      "cell_type": "markdown",
      "metadata": {
        "id": "DWrEuMjdAHbw"
      },
      "source": [
        "# Tensors"
      ]
    },
    {
      "cell_type": "code",
      "metadata": {
        "id": "hZB2UwhRMju8",
        "colab": {
          "base_uri": "https://localhost:8080/",
          "height": 612
        },
        "outputId": "0a500e1a-286c-4c3e-db3c-fb763a4d3d4d"
      },
      "source": [
        "#create tensor\n",
        "tensor0d = torch.tensor(5)\n",
        "tensor1d = torch.tensor([1,2,7])\n",
        "tensor2d = torch.tensor([[1,2], [4,7]])\n",
        "#...\n",
        "print(tensor0d, '\\n', tensor1d, '\\n', tensor2d, '\\n\\n\\n')\n",
        "\n",
        "print(tensor2d.shape,'\\n',tensor2d.size(), '\\n\\n\\n')    # .size() need () but .shape dose'nt need  \n",
        "print(tensor2d[0],'\\n', tensor2d.shape[0],'\\n', tensor2d.size(0), '\\n\\n\\n')\n",
        "\n",
        "\n",
        "\n",
        "print(tensor2d.dtype)\n",
        "tensor2d = tensor2d.type(dtype= torch.int32)\n",
        "print(tensor2d.dtype)\n",
        "#cpu tensor\n",
        "tensor2d = tensor2d.type(dtype= torch.FloatTensor)\n",
        "print(tensor2d.dtype)\n",
        "\n",
        "#gpu tensor\n",
        "tensor2d = tensor2d.type(dtype= torch.cuda.FloatTensor)\n",
        "print(tensor2d.dtype)\n",
        "\n",
        "\n",
        "#reshap tensor\n",
        "t1 = torch.tensor([[1,2,3],[4,5,6],[7,8,9],[10,11,12]])\n",
        "print('\\n\\nt1=',t1)\n",
        "\n",
        "t2 = t1.reshape((3,4))\n",
        "print('\\nt2=',t2)\n",
        "\n",
        "t3 = t1.reshape((2,6))\n",
        "print('\\nt3=',t3)"
      ],
      "execution_count": null,
      "outputs": [
        {
          "output_type": "stream",
          "text": [
            "tensor(5) \n",
            " tensor([1, 2, 7]) \n",
            " tensor([[1, 2],\n",
            "        [4, 7]]) \n",
            "\n",
            "\n",
            "\n",
            "torch.Size([2, 2]) \n",
            " torch.Size([2, 2]) \n",
            "\n",
            "\n",
            "\n",
            "tensor([1, 2]) \n",
            " 2 \n",
            " 2 \n",
            "\n",
            "\n",
            "\n",
            "torch.int64\n",
            "torch.int32\n",
            "torch.float32\n",
            "torch.float32\n",
            "\n",
            "\n",
            "t1= tensor([[ 1,  2,  3],\n",
            "        [ 4,  5,  6],\n",
            "        [ 7,  8,  9],\n",
            "        [10, 11, 12]])\n",
            "\n",
            "t2= tensor([[ 1,  2,  3,  4],\n",
            "        [ 5,  6,  7,  8],\n",
            "        [ 9, 10, 11, 12]])\n",
            "\n",
            "t3= tensor([[ 1,  2,  3,  4,  5,  6],\n",
            "        [ 7,  8,  9, 10, 11, 12]])\n"
          ],
          "name": "stdout"
        }
      ]
    },
    {
      "cell_type": "code",
      "metadata": {
        "id": "4VyTae9ANajf",
        "colab": {
          "base_uri": "https://localhost:8080/",
          "height": 459
        },
        "outputId": "0fde1b2d-1772-431e-b1ed-e03d1e834ef2"
      },
      "source": [
        "# special tensors\n",
        "zeros2d = torch.zeros(2, 2, dtype=torch.float16)\n",
        "print(zeros2d,'\\n')\n",
        "\n",
        "ones2d = torch.ones(4, 8)\n",
        "print(ones2d,'\\n')\n",
        "\n",
        "full2d = torch.full((3,4), 4, dtype=torch.int8)\n",
        "print(full2d,'\\n')\n",
        "\n",
        "eye_tensor = torch.eye(5)\n",
        "print(eye_tensor,'\\n')\n",
        "\n",
        "arange_tensor = torch.arange(0, 10, 2)\n",
        "(arange_tensor,'\\n')\n",
        "\n",
        "linspace_tensor = torch.linspace(0, 1, 15)\n",
        "print(linspace_tensor,'\\n')\n",
        "\n",
        "logspace_tensor = torch.logspace(0, 2, 10)\n",
        "print(logspace_tensor,'\\n')\n",
        "\n",
        "empty_tensor = torch.empty((2,3), dtype= torch.int8)\n",
        "print(empty_tensor)"
      ],
      "execution_count": null,
      "outputs": [
        {
          "output_type": "stream",
          "text": [
            "tensor([[0., 0.],\n",
            "        [0., 0.]], dtype=torch.float16) \n",
            "\n",
            "tensor([[1., 1., 1., 1., 1., 1., 1., 1.],\n",
            "        [1., 1., 1., 1., 1., 1., 1., 1.],\n",
            "        [1., 1., 1., 1., 1., 1., 1., 1.],\n",
            "        [1., 1., 1., 1., 1., 1., 1., 1.]]) \n",
            "\n",
            "tensor([[4, 4, 4, 4],\n",
            "        [4, 4, 4, 4],\n",
            "        [4, 4, 4, 4]], dtype=torch.int8) \n",
            "\n",
            "tensor([[1., 0., 0., 0., 0.],\n",
            "        [0., 1., 0., 0., 0.],\n",
            "        [0., 0., 1., 0., 0.],\n",
            "        [0., 0., 0., 1., 0.],\n",
            "        [0., 0., 0., 0., 1.]]) \n",
            "\n",
            "tensor([0.0000, 0.0714, 0.1429, 0.2143, 0.2857, 0.3571, 0.4286, 0.5000, 0.5714,\n",
            "        0.6429, 0.7143, 0.7857, 0.8571, 0.9286, 1.0000]) \n",
            "\n",
            "tensor([  1.0000,   1.6681,   2.7826,   4.6416,   7.7426,  12.9155,  21.5443,\n",
            "         35.9381,  59.9484, 100.0000]) \n",
            "\n",
            "tensor([[-64, 104,  18],\n",
            "        [-75,   0,   0]], dtype=torch.int8)\n"
          ],
          "name": "stdout"
        }
      ]
    },
    {
      "cell_type": "code",
      "metadata": {
        "colab": {
          "base_uri": "https://localhost:8080/"
        },
        "id": "nUrOl4tv7B3e",
        "outputId": "c4fd3c8a-a568-47cc-95fe-cb3d7342b24c"
      },
      "source": [
        "#Tensor Attributes\r\n",
        "tensor = torch.rand((3,4), device='cpu')\r\n",
        "\r\n",
        "print(f\"Shape of tensor: {tensor.shape}\")\r\n",
        "print(f\"Datatype of tensor: {tensor.dtype}\")\r\n",
        "print(f\"Device tensor is stored on: {tensor.device}\")\r\n",
        "\r\n",
        "tensor = torch.rand(3,4, device='cuda:0')\r\n",
        "print(f\"\\nDevice tensor is stored on: {tensor.device}\")\r\n",
        "\r\n",
        "\r\n",
        "\r\n",
        "#>>> torch.device('cuda:0')\r\n",
        "#device(type='cuda', index=0)\r\n",
        "\r\n",
        "#>>> torch.device('cpu')\r\n",
        "#device(type='cpu')\r\n",
        "\r\n",
        "#>>> torch.device('cuda')  # current cuda device\r\n",
        "#device(type='cuda')"
      ],
      "execution_count": 24,
      "outputs": [
        {
          "output_type": "stream",
          "text": [
            "Shape of tensor: torch.Size([3, 4])\n",
            "Datatype of tensor: torch.float32\n",
            "Device tensor is stored on: cpu\n",
            "\n",
            "Device tensor is stored on: cuda:0\n"
          ],
          "name": "stdout"
        }
      ]
    },
    {
      "cell_type": "code",
      "metadata": {
        "id": "l0wYmpJDBqTa",
        "outputId": "cddd16c5-c07f-4246-c833-68c344247111",
        "colab": {
          "base_uri": "https://localhost:8080/"
        }
      },
      "source": [
        "#Joining tensors. You can use torch.cat to concatenate\r\n",
        "#a sequence of tensors along a given dimension.\r\n",
        "#See also torch.stack, another tensor joining op that is subtly different from torch.cat.\r\n",
        "\r\n",
        "tensor = torch.ones(3, 3)\r\n",
        "tensor[:,1] = 0\r\n",
        "print(tensor,'\\n\\n')\r\n",
        "\r\n",
        "t1 = torch.cat([tensor, tensor, tensor], dim=1)\r\n",
        "print(t1,)"
      ],
      "execution_count": 32,
      "outputs": [
        {
          "output_type": "stream",
          "text": [
            "tensor([[1., 0., 1.],\n",
            "        [1., 0., 1.],\n",
            "        [1., 0., 1.]]) \n",
            "\n",
            "\n",
            "tensor([[1., 0., 1., 1., 0., 1., 1., 0., 1.],\n",
            "        [1., 0., 1., 1., 0., 1., 1., 0., 1.],\n",
            "        [1., 0., 1., 1., 0., 1., 1., 0., 1.]])\n"
          ],
          "name": "stdout"
        }
      ]
    },
    {
      "cell_type": "code",
      "metadata": {
        "id": "GoGHqZL-O7p7",
        "colab": {
          "base_uri": "https://localhost:8080/",
          "height": 760
        },
        "outputId": "7c40908f-6287-44cd-c92d-78eaf45883bb"
      },
      "source": [
        "#uniform[0,1] random tensor\n",
        "\n",
        "rand1d = torch.rand(10000) \n",
        "plt.hist(rand1d, 50, color='b') \n",
        "plt.xlabel('X~U[0,1]') \n",
        "plt.ylabel('Count') \n",
        "plt.title(\"Uniform Distribution Histogram (Bin size 25)\") \n",
        "plt.grid(True)\n",
        "plt.show()\n",
        "\n",
        "#N~(0,1) random tensor\n",
        "\n",
        "rand1d = torch.randn(10000) \n",
        "plt.hist(rand1d, 50, color='b') \n",
        "plt.xlabel('X~N[0,1]') \n",
        "plt.ylabel('Count') \n",
        "plt.title(\"Normal Distribution Histogram (Bin size 25)\") \n",
        "plt.grid(True)\n",
        "plt.show()\n",
        "\n",
        "\n",
        "randint2d = torch.randint(10, (4,3))   #4*3 _ 0 to 9 random \n",
        "print(randint2d,'\\n')\n",
        "\n",
        "# modify seed\n",
        "\n",
        "for i in range(3):\n",
        "  torch.manual_seed(8) \n",
        "  randp = torch.randperm(8) \n",
        "  print(randp,'\\n')"
      ],
      "execution_count": null,
      "outputs": [
        {
          "output_type": "display_data",
          "data": {
            "image/png": "[encoded data removed]",
            "text/plain": [
              "<Figure size 432x288 with 1 Axes>"
            ]
          },
          "metadata": {
            "tags": [],
            "needs_background": "light"
          }
        },
        {
          "output_type": "display_data",
          "data": {
            "image/png": "[encoded data removed]",
            "text/plain": [
              "<Figure size 432x288 with 1 Axes>"
            ]
          },
          "metadata": {
            "tags": [],
            "needs_background": "light"
          }
        },
        {
          "output_type": "stream",
          "text": [
            "tensor([[2, 1, 0],\n",
            "        [5, 9, 0],\n",
            "        [6, 7, 5],\n",
            "        [8, 6, 3]]) \n",
            "\n",
            "tensor([3, 6, 5, 7, 2, 1, 4, 0]) \n",
            "\n",
            "tensor([3, 6, 5, 7, 2, 1, 4, 0]) \n",
            "\n",
            "tensor([3, 6, 5, 7, 2, 1, 4, 0]) \n",
            "\n"
          ],
          "name": "stdout"
        }
      ]
    },
    {
      "cell_type": "code",
      "metadata": {
        "id": "NBcz4stNT7Nu"
      },
      "source": [
        "#torch.add(), torch.matmul(), torch.mv(), torch.bmm() ,torch.mm()   matrix mul\n",
        "\n",
        "#torch.mul()  element to element mul "
      ],
      "execution_count": null,
      "outputs": []
    },
    {
      "cell_type": "markdown",
      "metadata": {
        "id": "C0HzirgYjYkJ"
      },
      "source": [
        "# Gradient"
      ]
    },
    {
      "cell_type": "code",
      "metadata": {
        "id": "MHykXB_gX0Uk",
        "colab": {
          "base_uri": "https://localhost:8080/",
          "height": 119
        },
        "outputId": "ad318116-24f2-400e-c2d2-82558d9a84a9"
      },
      "source": [
        "x = torch.tensor(1., requires_grad=True)\n",
        "w = torch.tensor(2., requires_grad=True)\n",
        "b = torch.tensor(3., requires_grad=True)\n",
        "a = torch.tensor(1.)\n",
        "\n",
        "# Build a computational graph.\n",
        "y1 = w * x + b    # y1 = 2 * x + 3\n",
        "y2 = a * x\n",
        "\n",
        "# Compute gradients.\n",
        "y1.backward()\n",
        "\n",
        "# Print out the gradients.\n",
        "print(x.grad)    # x.grad = 2 \n",
        "print(w.grad)    # w.grad = 1 \n",
        "print(b.grad)    # b.grad = 1 \n",
        "######################################\n",
        "y2.backward() \n",
        "print('\\n', x.grad)\n",
        "print(a.grad)"
      ],
      "execution_count": null,
      "outputs": [
        {
          "output_type": "stream",
          "text": [
            "tensor(2.)\n",
            "tensor(1.)\n",
            "tensor(1.)\n",
            "\n",
            " tensor(3.)\n",
            "None\n"
          ],
          "name": "stdout"
        }
      ]
    },
    {
      "cell_type": "code",
      "metadata": {
        "id": "9QpR0MvugnAH",
        "colab": {
          "base_uri": "https://localhost:8080/",
          "height": 255
        },
        "outputId": "18500ed4-8fff-49f0-f479-8fade1874ad8"
      },
      "source": [
        "#Create tensors of shape (10, 3) and (10, 2).\n",
        "x = torch.randn(10, 3)\n",
        "y = torch.randn(10, 2)\n",
        "\n",
        "# Build a fully connected layer.\n",
        "linear = nn.Linear(3,2)\n",
        "print ('w: ', linear.weight)\n",
        "print ('b: ', linear.bias,'\\n\\n')\n",
        "\n",
        "# Build loss function and optimizer.\n",
        "criterion = nn.MSELoss()\n",
        "optimizer = torch.optim.SGD(linear.parameters(), lr=0.01)\n",
        "\n",
        "# Forward pass.\n",
        "pred = linear(x)\n",
        "\n",
        "# Compute loss.\n",
        "loss = criterion(pred, y)\n",
        "print('loss: ', loss.item(),'\\n')\n",
        "\n",
        "# Backward pass.\n",
        "loss.backward()\n",
        "\n",
        "# Print out the gradients.\n",
        "print ('dL/dw: ', linear.weight.grad) \n",
        "print ('dL/db: ', linear.bias.grad)\n",
        "\n",
        "# 1-step gradient descent.\n",
        "optimizer.step()\n",
        "\n",
        "# You can also perform gradient descent at the low level.\n",
        "# linear.weight.data.sub_(0.01 * linear.weight.grad.data)\n",
        "# linear.bias.data.sub_(0.01 * linear.bias.grad.data)\n",
        "\n",
        "# Print out the loss after 1-step gradient descent.\n",
        "pred = linear(x)\n",
        "loss = criterion(pred, y)\n",
        "print('loss after 1 step optimization: ', loss.item(),'\\n')"
      ],
      "execution_count": null,
      "outputs": [
        {
          "output_type": "stream",
          "text": [
            "w:  Parameter containing:\n",
            "tensor([[ 0.3871, -0.2492,  0.5325],\n",
            "        [-0.4842,  0.4659, -0.0059]], requires_grad=True)\n",
            "b:  Parameter containing:\n",
            "tensor([0.4408, 0.5330], requires_grad=True) \n",
            "\n",
            "\n",
            "loss:  1.4851362705230713 \n",
            "\n",
            "dL/dw:  tensor([[ 0.1900, -0.0905,  0.7507],\n",
            "        [-1.1137,  0.3511, -0.0391]])\n",
            "dL/db:  tensor([0.0986, 1.0225])\n",
            "loss after 1 step optimization:  1.4550729990005493 \n",
            "\n"
          ],
          "name": "stdout"
        }
      ]
    },
    {
      "cell_type": "markdown",
      "metadata": {
        "id": "fEOKdZX2lJ9h"
      },
      "source": [
        "# loading data from numpy"
      ]
    },
    {
      "cell_type": "code",
      "metadata": {
        "id": "Z-ZlIACxhzjf",
        "colab": {
          "base_uri": "https://localhost:8080/",
          "height": 34
        },
        "outputId": "2e98031d-a751-4e1a-dad1-0425c9ceeb6e"
      },
      "source": [
        "# Create a numpy array.\n",
        "x = np.array([[1, 2], [3, 4]])\n",
        "\n",
        "# Convert the numpy array to a torch tensor.\n",
        "y = torch.from_numpy(x)\n",
        "\n",
        "# Convert the torch tensor to a numpy array.\n",
        "z = y.numpy()\n",
        "\n",
        "print(type(x), type(y), type(z))"
      ],
      "execution_count": null,
      "outputs": [
        {
          "output_type": "stream",
          "text": [
            "<class 'numpy.ndarray'> <class 'torch.Tensor'> <class 'numpy.ndarray'>\n"
          ],
          "name": "stdout"
        }
      ]
    },
    {
      "cell_type": "markdown",
      "metadata": {
        "id": "mKaKtwMglPHn"
      },
      "source": [
        "# Input pipeline"
      ]
    },
    {
      "cell_type": "code",
      "metadata": {
        "id": "ge4jXQq3iD2t",
        "colab": {
          "base_uri": "https://localhost:8080/",
          "height": 455
        },
        "outputId": "64b60a2d-93e0-4521-8234-d020cac98a43"
      },
      "source": [
        "# Download and construct CIFAR-10 dataset.\n",
        "train_dataset = torchvision.datasets.CIFAR10(root='../../data/',\n",
        "                                             train=True, \n",
        "                                             transform=transforms.ToTensor(),\n",
        "                                             download=True)\n",
        "\n",
        "# Fetch one data pair (read data from disk).\n",
        "image, label = train_dataset[0]\n",
        "print (image.size())\n",
        "print (label,'\\n')\n",
        "\n",
        "# 10 clases images\n",
        "class_name = ['airplane','automobile','bird','cat','deer','dog','frog','horse','ship','truck']\n",
        "plt.figure(figsize = (12,7))\n",
        "\n",
        "for i in range(10):\n",
        "  plt.subplot(2,5, 1 + i)\n",
        "\n",
        "  for j in range(100):\n",
        "    image, label = train_dataset[j]\n",
        "    \n",
        "    if label == i :\n",
        "      to_pil = torchvision.transforms.ToPILImage()\n",
        "      img = to_pil(image)\n",
        "      plt.imshow(img)\n",
        "      plt.title(class_name[i])\n",
        "      break\n",
        "\n",
        "\n",
        "\n",
        "# Data loader (this provides queues and threads in a very simple way).\n",
        "train_loader = torch.utils.data.DataLoader(dataset=train_dataset,\n",
        "                                           batch_size=64, \n",
        "                                           shuffle=True)\n",
        "\n",
        "# When iteration starts, queue and thread start to load data from files.\n",
        "data_iter = iter(train_loader)\n",
        "\n",
        "# Mini-batch images and labels.\n",
        "images, labels = data_iter.next()\n",
        "\n",
        "# Actual usage of the data loader is as below.\n",
        "for images, labels in train_loader:\n",
        "    # Training code should be written here.\n",
        "    pass\n",
        "\n"
      ],
      "execution_count": null,
      "outputs": [
        {
          "output_type": "stream",
          "text": [
            "Files already downloaded and verified\n",
            "torch.Size([3, 32, 32])\n",
            "6 \n",
            "\n"
          ],
          "name": "stdout"
        },
        {
          "output_type": "display_data",
          "data": {
            "image/png": "[encoded data removed]",
            "text/plain": [
              "<Figure size 864x504 with 10 Axes>"
            ]
          },
          "metadata": {
            "tags": [],
            "needs_background": "light"
          }
        }
      ]
    },
    {
      "cell_type": "markdown",
      "metadata": {
        "id": "TWP3SidwtQos"
      },
      "source": [
        "# Input pipeline for custom dataset\n",
        "\n"
      ]
    },
    {
      "cell_type": "code",
      "metadata": {
        "id": "CECaHGwhs4sI"
      },
      "source": [
        "# You should build your custom dataset as below.\n",
        "class CustomDataset(torch.utils.data.Dataset):\n",
        "    def __init__(self):\n",
        "        # TODO\n",
        "        # 1. Initialize file paths or a list of file names. \n",
        "        pass\n",
        "    def __getitem__(self, index):\n",
        "        # TODO\n",
        "        # 1. Read one data from file (e.g. using numpy.fromfile, PIL.Image.open).\n",
        "        # 2. Preprocess the data (e.g. torchvision.Transform).\n",
        "        # 3. Return a data pair (e.g. image and label).\n",
        "        pass\n",
        "    def __len__(self):\n",
        "        # You should change 0 to the total size of your dataset.\n",
        "        return 0 \n",
        "\n",
        "# You can then use the prebuilt data loader. \n",
        "custom_dataset = CustomDataset()\n",
        "train_loader = torch.utils.data.DataLoader(dataset=custom_dataset,\n",
        "                                           batch_size=64, \n",
        "                                           shuffle=True)\n"
      ],
      "execution_count": null,
      "outputs": []
    },
    {
      "cell_type": "markdown",
      "metadata": {
        "id": "vHwViOjtvryn"
      },
      "source": [
        "# pretrained model"
      ]
    },
    {
      "cell_type": "code",
      "metadata": {
        "id": "hI0CMAcBvkmv",
        "colab": {
          "base_uri": "https://localhost:8080/",
          "height": 120,
          "referenced_widgets": [
            "1b292bbc03304a1da1927db9989a6d37",
            "183f95f9b3c04a76b80d0cff8e5c5a9d",
            "b6679d16ad3c45ef96386f4ac017c0d5",
            "5ef682df85b24d15a05f25351300387a",
            "26eff396c29e4222a7a2e797404793de",
            "4992e6b46bc54837ab732aeaf1601bf1",
            "26d0ad60a917423f880c47e9407d6684",
            "085ee496d9ea4b22acde295a4255578d"
          ]
        },
        "outputId": "6a1fca99-f6d0-4595-f46e-9a8e60f14719"
      },
      "source": [
        "# Download and load the pretrained ResNet-18.\n",
        "resnet = torchvision.models.resnet18(pretrained=True)\n",
        "\n",
        "# If you want to finetune only the top layer of the model, set as below.\n",
        "for param in resnet.parameters():\n",
        "    param.requires_grad = False\n",
        "\n",
        "# Replace the top layer for finetuning.\n",
        "resnet.fc = nn.Linear(resnet.fc.in_features, 100)  # 100 is an example.\n",
        "\n",
        "# Forward pass.\n",
        "images = torch.randn(64, 3, 224, 224)\n",
        "outputs = resnet(images)\n",
        "print (outputs.size())     # (64, 100)\n"
      ],
      "execution_count": null,
      "outputs": [
        {
          "output_type": "stream",
          "text": [
            "Downloading: \"https://download.pytorch.org/models/resnet18-5c106cde.pth\" to /root/.cache/torch/hub/checkpoints/resnet18-5c106cde.pth\n"
          ],
          "name": "stderr"
        },
        {
          "output_type": "display_data",
          "data": {
            "application/vnd.jupyter.widget-view+json": {
              "model_id": "1b292bbc03304a1da1927db9989a6d37",
              "version_minor": 0,
              "version_major": 2
            },
            "text/plain": [
              "HBox(children=(FloatProgress(value=0.0, max=46827520.0), HTML(value='')))"
            ]
          },
          "metadata": {
            "tags": []
          }
        },
        {
          "output_type": "stream",
          "text": [
            "\n",
            "torch.Size([64, 100])\n"
          ],
          "name": "stdout"
        }
      ]
    }
  ]
}