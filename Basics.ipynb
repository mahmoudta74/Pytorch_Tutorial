{
  "nbformat": 4,
  "nbformat_minor": 0,
  "metadata": {
    "colab": {
      "name": "Basics.ipynb",
      "provenance": [],
      "collapsed_sections": [],
      "authorship_tag": "ABX9TyMFT1Pi8YZDVKig9Ei3gyOh",
      "include_colab_link": true
    },
    "kernelspec": {
      "name": "python3",
      "display_name": "Python 3"
    },
    "accelerator": "GPU"
  },
  "cells": [
    {
      "cell_type": "markdown",
      "metadata": {
        "id": "view-in-github",
        "colab_type": "text"
      },
      "source": [
        "<a href=\"https://colab.research.google.com/github/mahmoudta74/Pytorch_Tutorial/blob/master/Basics.ipynb\" target=\"_parent\"><img src=\"https://colab.research.google.com/assets/colab-badge.svg\" alt=\"Open In Colab\"/></a>"
      ]
    },
    {
      "cell_type": "markdown",
      "metadata": {
        "id": "Jf4BybyWLv7v",
        "colab_type": "text"
      },
      "source": [
        "# Tensor"
      ]
    },
    {
      "cell_type": "code",
      "metadata": {
        "id": "DOupibSiL0E3",
        "colab_type": "code",
        "colab": {}
      },
      "source": [
        "#import important packages \n",
        "import torch\n",
        "import torchvision\n",
        "import numpy as np\n",
        "import matplotlib.pyplot as plt\n",
        "import torch.nn as nn\n",
        "import torchvision.transforms as transforms"
      ],
      "execution_count": 1,
      "outputs": []
    },
    {
      "cell_type": "code",
      "metadata": {
        "id": "hZB2UwhRMju8",
        "colab_type": "code",
        "colab": {
          "base_uri": "https://localhost:8080/",
          "height": 391
        },
        "outputId": "6bc23da4-a674-400e-fda1-a453c51783a3"
      },
      "source": [
        "#create tensor\n",
        "tensor0d = torch.tensor(5)\n",
        "tensor1d = torch.tensor([1,2,7])\n",
        "tensor2d = torch.tensor([[1,2], [4,7]])\n",
        "#...\n",
        "print(tensor0d, '\\n', tensor1d, '\\n', tensor2d, '\\n\\n\\n')\n",
        "\n",
        "print(tensor2d.shape,'\\n',tensor2d.size(), '\\n\\n\\n')    # .size() need () but .shape dose'nt need  \n",
        "print(tensor2d[0],'\\n', tensor2d.shape[0],'\\n', tensor2d.size(0), '\\n\\n\\n')\n",
        "\n",
        "\n",
        "\n",
        "print(tensor2d.dtype)\n",
        "tensor2d = tensor2d.type(dtype= torch.int32)\n",
        "print(tensor2d.dtype)\n",
        "#cpu tensor\n",
        "tensor2d = tensor2d.type(dtype= torch.FloatTensor)\n",
        "print(tensor2d.dtype)\n",
        "\n",
        "#gpu tensor\n",
        "tensor2d = tensor2d.type(dtype= torch.cuda.FloatTensor)\n",
        "print(tensor2d.dtype)"
      ],
      "execution_count": 2,
      "outputs": [
        {
          "output_type": "stream",
          "text": [
            "tensor(5) \n",
            " tensor([1, 2, 7]) \n",
            " tensor([[1, 2],\n",
            "        [4, 7]]) \n",
            "\n",
            "\n",
            "\n",
            "torch.Size([2, 2]) \n",
            " torch.Size([2, 2]) \n",
            "\n",
            "\n",
            "\n",
            "tensor([1, 2]) \n",
            " 2 \n",
            " 2 \n",
            "\n",
            "\n",
            "\n",
            "torch.int64\n",
            "torch.int32\n",
            "torch.float32\n",
            "torch.float32\n"
          ],
          "name": "stdout"
        }
      ]
    },
    {
      "cell_type": "code",
      "metadata": {
        "id": "4VyTae9ANajf",
        "colab_type": "code",
        "colab": {
          "base_uri": "https://localhost:8080/",
          "height": 34
        },
        "outputId": "690f34c5-5bcd-4acc-fe15-166bd9333a79"
      },
      "source": [
        ""
      ],
      "execution_count": 9,
      "outputs": [
        {
          "output_type": "execute_result",
          "data": {
            "text/plain": [
              "torch.Size"
            ]
          },
          "metadata": {
            "tags": []
          },
          "execution_count": 9
        }
      ]
    }
  ]
}