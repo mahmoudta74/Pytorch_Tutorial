{
  "nbformat": 4,
  "nbformat_minor": 0,
  "metadata": {
    "colab": {
      "name": "Basics.ipynb",
      "provenance": [],
      "collapsed_sections": [],
      "toc_visible": true,
      "authorship_tag": "ABX9TyMWdK2XMC77K2dEh6PIeci/",
      "include_colab_link": true
    },
    "kernelspec": {
      "name": "python3",
      "display_name": "Python 3"
    },
    "accelerator": "GPU"
  },
  "cells": [
    {
      "cell_type": "markdown",
      "metadata": {
        "id": "view-in-github",
        "colab_type": "text"
      },
      "source": [
        "<a href=\"https://colab.research.google.com/github/mahmoudta74/Pytorch_Tutorial/blob/master/Basics.ipynb\" target=\"_parent\"><img src=\"https://colab.research.google.com/assets/colab-badge.svg\" alt=\"Open In Colab\"/></a>"
      ]
    },
    {
      "cell_type": "markdown",
      "metadata": {
        "id": "Jf4BybyWLv7v"
      },
      "source": [
        "# Tensor"
      ]
    },
    {
      "cell_type": "code",
      "metadata": {
        "id": "DOupibSiL0E3"
      },
      "source": [
        "#import essential packages \n",
        "import torch\n",
        "import torchvision\n",
        "import numpy as np\n",
        "import matplotlib.pyplot as plt\n",
        "import torch.nn as nn\n",
        "import torchvision.transforms as transforms"
      ],
      "execution_count": 1,
      "outputs": []
    },
    {
      "cell_type": "code",
      "metadata": {
        "id": "hZB2UwhRMju8",
        "outputId": "0a304240-d316-45d5-8e51-d8450a6de623",
        "colab": {
          "base_uri": "https://localhost:8080/",
          "height": 612
        }
      },
      "source": [
        "#create tensor\n",
        "tensor0d = torch.tensor(5)\n",
        "tensor1d = torch.tensor([1,2,7])\n",
        "tensor2d = torch.tensor([[1,2], [4,7]])\n",
        "#...\n",
        "print(tensor0d, '\\n', tensor1d, '\\n', tensor2d, '\\n\\n\\n')\n",
        "\n",
        "print(tensor2d.shape,'\\n',tensor2d.size(), '\\n\\n\\n')    # .size() need () but .shape dose'nt need  \n",
        "print(tensor2d[0],'\\n', tensor2d.shape[0],'\\n', tensor2d.size(0), '\\n\\n\\n')\n",
        "\n",
        "\n",
        "\n",
        "print(tensor2d.dtype)\n",
        "tensor2d = tensor2d.type(dtype= torch.int32)\n",
        "print(tensor2d.dtype)\n",
        "#cpu tensor\n",
        "tensor2d = tensor2d.type(dtype= torch.FloatTensor)\n",
        "print(tensor2d.dtype)\n",
        "\n",
        "#gpu tensor\n",
        "tensor2d = tensor2d.type(dtype= torch.cuda.FloatTensor)\n",
        "print(tensor2d.dtype)\n",
        "\n",
        "\n",
        "#reshap tensor\n",
        "t1 = torch.tensor([[1,2,3],[4,5,6],[7,8,9],[10,11,12]])\n",
        "print('\\n\\nt1=',t1)\n",
        "\n",
        "t2 = t1.reshape((3,4))\n",
        "print('\\nt2=',t2)\n",
        "\n",
        "t3 = t1.reshape((2,6))\n",
        "print('\\nt3=',t3)"
      ],
      "execution_count": 11,
      "outputs": [
        {
          "output_type": "stream",
          "text": [
            "tensor(5) \n",
            " tensor([1, 2, 7]) \n",
            " tensor([[1, 2],\n",
            "        [4, 7]]) \n",
            "\n",
            "\n",
            "\n",
            "torch.Size([2, 2]) \n",
            " torch.Size([2, 2]) \n",
            "\n",
            "\n",
            "\n",
            "tensor([1, 2]) \n",
            " 2 \n",
            " 2 \n",
            "\n",
            "\n",
            "\n",
            "torch.int64\n",
            "torch.int32\n",
            "torch.float32\n",
            "torch.float32\n",
            "\n",
            "\n",
            "t1= tensor([[ 1,  2,  3],\n",
            "        [ 4,  5,  6],\n",
            "        [ 7,  8,  9],\n",
            "        [10, 11, 12]])\n",
            "\n",
            "t2= tensor([[ 1,  2,  3,  4],\n",
            "        [ 5,  6,  7,  8],\n",
            "        [ 9, 10, 11, 12]])\n",
            "\n",
            "t3= tensor([[ 1,  2,  3,  4,  5,  6],\n",
            "        [ 7,  8,  9, 10, 11, 12]])\n"
          ],
          "name": "stdout"
        }
      ]
    },
    {
      "cell_type": "code",
      "metadata": {
        "id": "4VyTae9ANajf",
        "outputId": "b2addec1-842a-4a45-ad8a-61a191f9f463",
        "colab": {
          "base_uri": "https://localhost:8080/",
          "height": 459
        }
      },
      "source": [
        "# special tensors\n",
        "zeros2d = torch.zeros(2, 2, dtype=torch.float16)\n",
        "print(zeros2d,'\\n')\n",
        "\n",
        "ones2d = torch.ones(4, 8)\n",
        "print(ones2d,'\\n')\n",
        "\n",
        "full2d = torch.full((3,4), 4, dtype=torch.int8)\n",
        "print(full2d,'\\n')\n",
        "\n",
        "eye_tensor = torch.eye(5)\n",
        "print(eye_tensor,'\\n')\n",
        "\n",
        "arange_tensor = torch.arange(0, 10, 2)\n",
        "(arange_tensor,'\\n')\n",
        "\n",
        "linspace_tensor = torch.linspace(0, 1, 15)\n",
        "print(linspace_tensor,'\\n')\n",
        "\n",
        "logspace_tensor = torch.logspace(0, 2, 10)\n",
        "print(logspace_tensor,'\\n')\n",
        "\n",
        "empty_tensor = torch.empty((2,3), dtype= torch.int8)\n",
        "print(empty_tensor)"
      ],
      "execution_count": 3,
      "outputs": [
        {
          "output_type": "stream",
          "text": [
            "tensor([[0., 0.],\n",
            "        [0., 0.]], dtype=torch.float16) \n",
            "\n",
            "tensor([[1., 1., 1., 1., 1., 1., 1., 1.],\n",
            "        [1., 1., 1., 1., 1., 1., 1., 1.],\n",
            "        [1., 1., 1., 1., 1., 1., 1., 1.],\n",
            "        [1., 1., 1., 1., 1., 1., 1., 1.]]) \n",
            "\n",
            "tensor([[4, 4, 4, 4],\n",
            "        [4, 4, 4, 4],\n",
            "        [4, 4, 4, 4]], dtype=torch.int8) \n",
            "\n",
            "tensor([[1., 0., 0., 0., 0.],\n",
            "        [0., 1., 0., 0., 0.],\n",
            "        [0., 0., 1., 0., 0.],\n",
            "        [0., 0., 0., 1., 0.],\n",
            "        [0., 0., 0., 0., 1.]]) \n",
            "\n",
            "tensor([0.0000, 0.0714, 0.1429, 0.2143, 0.2857, 0.3571, 0.4286, 0.5000, 0.5714,\n",
            "        0.6429, 0.7143, 0.7857, 0.8571, 0.9286, 1.0000]) \n",
            "\n",
            "tensor([  1.0000,   1.6681,   2.7826,   4.6416,   7.7426,  12.9155,  21.5443,\n",
            "         35.9381,  59.9484, 100.0000]) \n",
            "\n",
            "tensor([[-64, -24,  10],\n",
            "        [-73,   0,   0]], dtype=torch.int8)\n"
          ],
          "name": "stdout"
        }
      ]
    },
    {
      "cell_type": "code",
      "metadata": {
        "id": "GoGHqZL-O7p7",
        "outputId": "8a7e91c2-a2ec-44a7-fdb4-8f3b97677104",
        "colab": {
          "base_uri": "https://localhost:8080/",
          "height": 760
        }
      },
      "source": [
        "#uniform[0,1] random tensor\n",
        "\n",
        "rand1d = torch.rand(10000) \n",
        "plt.hist(rand1d, 50, color='b') \n",
        "plt.xlabel('X~U[0,1]') \n",
        "plt.ylabel('Count') \n",
        "plt.title(\"Uniform Distribution Histogram (Bin size 25)\") \n",
        "plt.grid(True)\n",
        "plt.show()\n",
        "\n",
        "#N~(0,1) random tensor\n",
        "\n",
        "rand1d = torch.randn(10000) \n",
        "plt.hist(rand1d, 50, color='b') \n",
        "plt.xlabel('X~N[0,1]') \n",
        "plt.ylabel('Count') \n",
        "plt.title(\"Normal Distribution Histogram (Bin size 25)\") \n",
        "plt.grid(True)\n",
        "plt.show()\n",
        "\n",
        "\n",
        "randint2d = torch.randint(10, (4,3))   # 0 to 9 random \n",
        "print(randint2d,'\\n')\n",
        "\n",
        "# modify seed\n",
        "\n",
        "for i in range(3):\n",
        "  torch.manual_seed(8) \n",
        "  randp = torch.randperm(8) \n",
        "  print(randp,'\\n')"
      ],
      "execution_count": 7,
      "outputs": [
        {
          "output_type": "display_data",
          "data": {
            "image/png": "[encoded data removed]",
            "text/plain": [
              "<Figure size 432x288 with 1 Axes>"
            ]
          },
          "metadata": {
            "tags": [],
            "needs_background": "light"
          }
        },
        {
          "output_type": "display_data",
          "data": {
            "image/png": "[encoded data removed]",
            "text/plain": [
              "<Figure size 432x288 with 1 Axes>"
            ]
          },
          "metadata": {
            "tags": [],
            "needs_background": "light"
          }
        },
        {
          "output_type": "stream",
          "text": [
            "tensor([[9, 9, 4],\n",
            "        [6, 6, 7],\n",
            "        [3, 4, 9],\n",
            "        [5, 9, 9]]) \n",
            "\n",
            "tensor([3, 6, 5, 7, 2, 1, 4, 0]) \n",
            "\n",
            "tensor([3, 6, 5, 7, 2, 1, 4, 0]) \n",
            "\n",
            "tensor([3, 6, 5, 7, 2, 1, 4, 0]) \n",
            "\n"
          ],
          "name": "stdout"
        }
      ]
    },
    {
      "cell_type": "code",
      "metadata": {
        "id": "NBcz4stNT7Nu"
      },
      "source": [
        "#torch.add(), torch.matmul(), torch.mv(), torch.bmm() ,torch.mm()   matrix mul\n",
        "\n",
        "#torch.mul()  element to element mul "
      ],
      "execution_count": null,
      "outputs": []
    },
    {
      "cell_type": "markdown",
      "metadata": {
        "id": "C0HzirgYjYkJ"
      },
      "source": [
        "# Gradient"
      ]
    },
    {
      "cell_type": "code",
      "metadata": {
        "id": "MHykXB_gX0Uk",
        "outputId": "de75d2a6-1e7d-40f5-a14e-18346cea7cdf",
        "colab": {
          "base_uri": "https://localhost:8080/",
          "height": 68
        }
      },
      "source": [
        "x = torch.tensor(1., requires_grad=True)\n",
        "w = torch.tensor(2., requires_grad=True)\n",
        "b = torch.tensor(3., requires_grad=True)\n",
        "\n",
        "# Build a computational graph.\n",
        "y = w * x + b    # y = 2 * x + 3\n",
        "\n",
        "# Compute gradients.\n",
        "y.backward()\n",
        "\n",
        "# Print out the gradients.\n",
        "print(x.grad)    # x.grad = 2 \n",
        "print(w.grad)    # w.grad = 1 \n",
        "print(b.grad)    # b.grad = 1 "
      ],
      "execution_count": null,
      "outputs": [
        {
          "output_type": "stream",
          "text": [
            "tensor(2.)\n",
            "tensor(1.)\n",
            "tensor(1.)\n"
          ],
          "name": "stdout"
        }
      ]
    },
    {
      "cell_type": "code",
      "metadata": {
        "id": "9QpR0MvugnAH",
        "outputId": "eb2e9fbf-833a-4235-a174-ac30ec658bf6",
        "colab": {
          "base_uri": "https://localhost:8080/",
          "height": 255
        }
      },
      "source": [
        "#Create tensors of shape (10, 3) and (10, 2).\n",
        "x = torch.randn(10, 3)\n",
        "y = torch.randn(10, 2)\n",
        "\n",
        "# Build a fully connected layer.\n",
        "linear = nn.Linear(3,2)\n",
        "print ('w: ', linear.weight)\n",
        "print ('b: ', linear.bias,'\\n\\n')\n",
        "\n",
        "# Build loss function and optimizer.\n",
        "criterion = nn.MSELoss()\n",
        "optimizer = torch.optim.SGD(linear.parameters(), lr=0.01)\n",
        "\n",
        "# Forward pass.\n",
        "pred = linear(x)\n",
        "\n",
        "# Compute loss.\n",
        "loss = criterion(pred, y)\n",
        "print('loss: ', loss.item(),'\\n')\n",
        "\n",
        "# Backward pass.\n",
        "loss.backward()\n",
        "\n",
        "# Print out the gradients.\n",
        "print ('dL/dw: ', linear.weight.grad) \n",
        "print ('dL/db: ', linear.bias.grad)\n",
        "\n",
        "# 1-step gradient descent.\n",
        "optimizer.step()\n",
        "\n",
        "# You can also perform gradient descent at the low level.\n",
        "# linear.weight.data.sub_(0.01 * linear.weight.grad.data)\n",
        "# linear.bias.data.sub_(0.01 * linear.bias.grad.data)\n",
        "\n",
        "# Print out the loss after 1-step gradient descent.\n",
        "pred = linear(x)\n",
        "loss = criterion(pred, y)\n",
        "print('loss after 1 step optimization: ', loss.item(),'\\n')"
      ],
      "execution_count": null,
      "outputs": [
        {
          "output_type": "stream",
          "text": [
            "w:  Parameter containing:\n",
            "tensor([[ 0.2461,  0.3023,  0.3376],\n",
            "        [ 0.1729, -0.3057,  0.5133]], requires_grad=True)\n",
            "b:  Parameter containing:\n",
            "tensor([ 0.1102, -0.0790], requires_grad=True) \n",
            "\n",
            "\n",
            "loss:  1.2824056148529053 \n",
            "\n",
            "dL/dw:  tensor([[ 0.6751, -0.0036,  0.2493],\n",
            "        [ 0.3855,  0.0469,  0.4317]])\n",
            "dL/db:  tensor([-0.2365, -0.4646])\n",
            "loss after 1 step optimization:  1.27118718624115 \n",
            "\n"
          ],
          "name": "stdout"
        }
      ]
    },
    {
      "cell_type": "code",
      "metadata": {
        "id": "Z-ZlIACxhzjf",
        "outputId": "2e98031d-a751-4e1a-dad1-0425c9ceeb6e",
        "colab": {
          "base_uri": "https://localhost:8080/",
          "height": 34
        }
      },
      "source": [
        "# Create a numpy array.\n",
        "x = np.array([[1, 2], [3, 4]])\n",
        "\n",
        "# Convert the numpy array to a torch tensor.\n",
        "y = torch.from_numpy(x)\n",
        "\n",
        "# Convert the torch tensor to a numpy array.\n",
        "z = y.numpy()\n",
        "\n",
        "print(type(x), type(y), type(z))"
      ],
      "execution_count": null,
      "outputs": [
        {
          "output_type": "stream",
          "text": [
            "<class 'numpy.ndarray'> <class 'torch.Tensor'> <class 'numpy.ndarray'>\n"
          ],
          "name": "stdout"
        }
      ]
    },
    {
      "cell_type": "code",
      "metadata": {
        "id": "ge4jXQq3iD2t"
      },
      "source": [
        ""
      ],
      "execution_count": null,
      "outputs": []
    }
  ]
}